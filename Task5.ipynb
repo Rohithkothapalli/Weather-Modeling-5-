{
  "nbformat": 4,
  "nbformat_minor": 0,
  "metadata": {
    "colab": {
      "provenance": [],
      "authorship_tag": "ABX9TyMu1FWS271JzgWKMpC5CsBT",
      "include_colab_link": true
    },
    "kernelspec": {
      "name": "python3",
      "display_name": "Python 3"
    },
    "language_info": {
      "name": "python"
    }
  },
  "cells": [
    {
      "cell_type": "markdown",
      "metadata": {
        "id": "view-in-github",
        "colab_type": "text"
      },
      "source": [
        "<a href=\"https://colab.research.google.com/github/Rohithkothapalli/Weather-Modeling-5-/blob/main/Task5.ipynb\" target=\"_parent\"><img src=\"https://colab.research.google.com/assets/colab-badge.svg\" alt=\"Open In Colab\"/></a>"
      ]
    },
    {
      "cell_type": "markdown",
      "source": [
        "1.Hardcoding Variables:"
      ],
      "metadata": {
        "id": "YC-FBZpO4F27"
      }
    },
    {
      "cell_type": "code",
      "source": [
        "#Hardcoding Variables\n",
        "a = 2.0\n",
        "b = -4.0\n",
        "c = 30.0\n",
        "time = 15\n",
        "\n",
        "temperature = a * (time ** 2) + b * time + c\n",
        "\n",
        "print(f\"At time {time} seconds, the temperature is {temperature:.2f}°C.\")\n",
        "\n"
      ],
      "metadata": {
        "colab": {
          "base_uri": "https://localhost:8080/"
        },
        "id": "WXPMgZ8X1iqi",
        "outputId": "c1a5d652-be0b-4cf1-a7b4-ad147d2d8a27"
      },
      "execution_count": 1,
      "outputs": [
        {
          "output_type": "stream",
          "name": "stdout",
          "text": [
            "At time 15 seconds, the temperature is 420.00°C.\n"
          ]
        }
      ]
    },
    {
      "cell_type": "markdown",
      "source": [
        "2.Keyboard Input Variables:\n"
      ],
      "metadata": {
        "id": "Y87xbSQC4JhC"
      }
    },
    {
      "cell_type": "code",
      "source": [
        "# Variables read from keyboard\n",
        "\n",
        "a = float(input(\"Enter the coefficient 'a' (for time^2): \"))\n",
        "b = float(input(\"Enter the coefficient 'b' (for time): \"))\n",
        "c = float(input(\"Enter the constant 'c': \"))\n",
        "time = float(input(\"Enter the time value (seconds): \"))\n",
        "\n",
        "temperature = a * (time**2) + b * time + c\n",
        "\n",
        "print(f\"At time {time} seconds, the temperature is {temperature:.2f}°C.\")\n",
        "\n",
        ""
      ],
      "metadata": {
        "colab": {
          "base_uri": "https://localhost:8080/"
        },
        "id": "xDeBAE3e4ceL",
        "outputId": "c618d3a4-75a6-469e-abaf-436078040b72"
      },
      "execution_count": 4,
      "outputs": [
        {
          "output_type": "stream",
          "name": "stdout",
          "text": [
            "Enter the coefficient 'a' (for time^2): 5\n",
            "Enter the coefficient 'b' (for time): 14\n",
            "Enter the constant 'c': 9\n",
            "Enter the time value (seconds): 60\n",
            "At time 60.0 seconds, the temperature is 18849.00°C.\n"
          ]
        }
      ]
    },
    {
      "cell_type": "markdown",
      "source": [
        "3. Retrieving variables from a file:"
      ],
      "metadata": {
        "id": "KIwmMrz_5fBr"
      }
    },
    {
      "cell_type": "code",
      "source": [
        "# Read variables from a file\n",
        "def read_variables_from_file(filename):\n",
        "    variables = {}\n",
        "    with open(filename, 'r') as file:\n",
        "        for line in file:\n",
        "            key, value = line.strip().split('=')\n",
        "            variables[key] = float(value)\n",
        "    return variables\n",
        "\n",
        "filename = 'variable.txt'\n",
        "\n",
        "variables = read_variables_from_file(filename)\n",
        "\n",
        "a = variables['a']\n",
        "b = variables['b']\n",
        "c = variables['c']\n",
        "time = variables['time']\n",
        "\n",
        "temperature = a * (time ** 2) + b * time + c\n",
        "\n",
        "print(f\"At time {time} seconds, the temperature is {temperature:.2f}°C.\")"
      ],
      "metadata": {
        "colab": {
          "base_uri": "https://localhost:8080/"
        },
        "id": "H-WYiK4l5iKr",
        "outputId": "852d4210-6557-4acb-8d3f-7ba0a11e8fba"
      },
      "execution_count": 13,
      "outputs": [
        {
          "output_type": "stream",
          "name": "stdout",
          "text": [
            "At time 20.0 seconds, the temperature is 1345.00°C.\n"
          ]
        }
      ]
    },
    {
      "cell_type": "markdown",
      "source": [
        "4. Handling a single set of inputs:\n"
      ],
      "metadata": {
        "id": "kcXN9skx7umB"
      }
    },
    {
      "cell_type": "code",
      "source": [
        "# Function to read a single set of coefficients from a file\n",
        "def read_coefficients_from_file(filename):\n",
        "    coefficients = {}\n",
        "    with open(filename, 'r') as file:\n",
        "        for line in file:\n",
        "            key, value = line.strip().split('=')\n",
        "            coefficients[key] = float(value)\n",
        "    return coefficients\n",
        "\n",
        "filename = 'coefficients.txt'\n",
        "\n",
        "coefficients = read_coefficients_from_file(filename)\n",
        "\n",
        "a = coefficients['a']\n",
        "b = coefficients['b']\n",
        "c = coefficients['c']\n",
        "time = coefficients['time']\n",
        "\n",
        "temperature = a * (time ** 2) + b * time + c\n",
        "\n",
        "print(f\"At time {time} seconds, the temperature is {temperature:.2f}°C.\")"
      ],
      "metadata": {
        "colab": {
          "base_uri": "https://localhost:8080/"
        },
        "id": "VjKOBKhu74cN",
        "outputId": "f0fea21d-66bf-47f5-a30a-f79854c8bddf"
      },
      "execution_count": 14,
      "outputs": [
        {
          "output_type": "stream",
          "name": "stdout",
          "text": [
            "At time 10.0 seconds, the temperature is 764.00°C.\n"
          ]
        }
      ]
    },
    {
      "cell_type": "markdown",
      "source": [
        "5.Handling multiple input sets:\n"
      ],
      "metadata": {
        "id": "-4dpuWdv9KX8"
      }
    },
    {
      "cell_type": "code",
      "source": [
        "# Function to process multiple sets of inputs from a file\n",
        "def process_multiple_sets(filename):\n",
        "    with open(filename, 'r') as file:\n",
        "        print(\"Processing multiple sets of inputs...\\n\")\n",
        "        for line_num, line in enumerate(file, start=1):\n",
        "            try:\n",
        "                coefficients = {}\n",
        "                for item in line.strip().split(','):\n",
        "                    key, value = item.strip().split('=')\n",
        "                    coefficients[key.strip()] = float(value.strip())\n",
        "\n",
        "                a = coefficients['a']\n",
        "                b = coefficients['b']\n",
        "                c = coefficients['c']\n",
        "                time = coefficients['time']\n",
        "\n",
        "                temperature = a * (time ** 2) + b * time + c\n",
        "\n",
        "                print(f\"Set {line_num}: At time {time} seconds, the temperature is {temperature:.2f}°C.\")\n",
        "            except Exception as e:\n",
        "                print(f\"Error processing line {line_num}: {line.strip()} - {e}\")\n",
        "\n",
        "filename = 'multiple_sets.txt'\n",
        "\n",
        "process_multiple_sets(filename)"
      ],
      "metadata": {
        "colab": {
          "base_uri": "https://localhost:8080/"
        },
        "id": "LEg4JOrH9J8k",
        "outputId": "eb1ba7b0-ae7b-4744-e4e3-ca4f3afb9e99"
      },
      "execution_count": 15,
      "outputs": [
        {
          "output_type": "stream",
          "name": "stdout",
          "text": [
            "Processing multiple sets of inputs...\n",
            "\n",
            "Set 1: At time 16.0 seconds, the temperature is 626.80°C.\n",
            "Set 2: At time 9.0 seconds, the temperature is 381.80°C.\n",
            "Set 3: At time 7.0 seconds, the temperature is 182.00°C.\n"
          ]
        }
      ]
    }
  ]
}